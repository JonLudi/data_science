{
 "cells": [
  {
   "cell_type": "markdown",
   "id": "e15545e0-aa6c-4bbb-9bc2-7958482483b4",
   "metadata": {},
   "source": [
    "# Arrays"
   ]
  },
  {
   "cell_type": "markdown",
   "id": "d979a05f-4b10-4609-a80a-d3b30d102fd0",
   "metadata": {},
   "source": [
    "***"
   ]
  },
  {
   "cell_type": "code",
   "execution_count": 4,
   "id": "ea7f827f-cf44-4550-89bd-174c0cf28044",
   "metadata": {},
   "outputs": [],
   "source": [
    "food = [\"Ham\", \"Cheese\", \"Bread\", \"Bacon\", \"Tomatoes\", \"Lettuce\"]"
   ]
  },
  {
   "cell_type": "code",
   "execution_count": 5,
   "id": "c26e1586-f800-49fc-b7b9-06f8f873abd5",
   "metadata": {},
   "outputs": [
    {
     "name": "stdout",
     "output_type": "stream",
     "text": [
      "['Ham', 'Cheese', 'Bread', 'Bacon', 'Tomatoes', 'Lettuce']\n"
     ]
    }
   ],
   "source": [
    "print(food)"
   ]
  },
  {
   "cell_type": "code",
   "execution_count": 6,
   "id": "5eab3333-06fc-461f-908e-26b281e5a793",
   "metadata": {},
   "outputs": [
    {
     "name": "stdout",
     "output_type": "stream",
     "text": [
      "Ham\n"
     ]
    }
   ],
   "source": [
    "print(food[0])"
   ]
  },
  {
   "cell_type": "code",
   "execution_count": 7,
   "id": "360c0757-b860-4fb4-a84f-b81e4bbb8f45",
   "metadata": {},
   "outputs": [
    {
     "name": "stdout",
     "output_type": "stream",
     "text": [
      "Tomatoes\n"
     ]
    }
   ],
   "source": [
    "print(food[4])"
   ]
  },
  {
   "cell_type": "code",
   "execution_count": 8,
   "id": "fc7a62e0-178e-4b72-9a17-53308d082130",
   "metadata": {},
   "outputs": [
    {
     "name": "stdout",
     "output_type": "stream",
     "text": [
      "['Ham', 'Cheese', 'Bread']\n"
     ]
    }
   ],
   "source": [
    "sliced_food = food[0:3]\n",
    "print(sliced_food)"
   ]
  },
  {
   "cell_type": "markdown",
   "id": "f1c93fa1-6160-411b-907c-b6b43f2bb48c",
   "metadata": {},
   "source": [
    "# Import Libraries"
   ]
  },
  {
   "cell_type": "markdown",
   "id": "6510ba5d-962a-4e4a-9795-50667f01b019",
   "metadata": {},
   "source": [
    "***"
   ]
  },
  {
   "cell_type": "code",
   "execution_count": null,
   "id": "74e6e4f0-71c8-41c4-a83f-2c17d8fb2dde",
   "metadata": {},
   "outputs": [],
   "source": [
    "import pandas as pd\n",
    "import numpy as py\n",
    "import seaborn as sb"
   ]
  }
 ],
 "metadata": {
  "kernelspec": {
   "display_name": "Python 3 (ipykernel)",
   "language": "python",
   "name": "python3"
  },
  "language_info": {
   "codemirror_mode": {
    "name": "ipython",
    "version": 3
   },
   "file_extension": ".py",
   "mimetype": "text/x-python",
   "name": "python",
   "nbconvert_exporter": "python",
   "pygments_lexer": "ipython3",
   "version": "3.10.13"
  }
 },
 "nbformat": 4,
 "nbformat_minor": 5
}
