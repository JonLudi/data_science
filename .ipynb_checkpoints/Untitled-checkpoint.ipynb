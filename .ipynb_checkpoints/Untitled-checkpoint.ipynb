{
 "cells": [
  {
   "cell_type": "markdown",
   "id": "e15545e0-aa6c-4bbb-9bc2-7958482483b4",
   "metadata": {},
   "source": [
    "# Arrays"
   ]
  },
  {
   "cell_type": "markdown",
   "id": "d979a05f-4b10-4609-a80a-d3b30d102fd0",
   "metadata": {},
   "source": [
    "***"
   ]
  },
  {
   "cell_type": "code",
   "execution_count": 7,
   "id": "ea7f827f-cf44-4550-89bd-174c0cf28044",
   "metadata": {},
   "outputs": [],
   "source": [
    "food = [\"Ham\", \"Cheese\", \"Bread\", \"Bacon\", \"Tomatoes\", \"Lettuce\"]"
   ]
  },
  {
   "cell_type": "code",
   "execution_count": 8,
   "id": "c26e1586-f800-49fc-b7b9-06f8f873abd5",
   "metadata": {},
   "outputs": [
    {
     "name": "stdout",
     "output_type": "stream",
     "text": [
      "['Ham', 'Cheese', 'Bread', 'Bacon', 'Tomatoes', 'Lettuce']\n"
     ]
    }
   ],
   "source": [
    "print(food)"
   ]
  },
  {
   "cell_type": "code",
   "execution_count": 9,
   "id": "5eab3333-06fc-461f-908e-26b281e5a793",
   "metadata": {},
   "outputs": [
    {
     "name": "stdout",
     "output_type": "stream",
     "text": [
      "Ham\n"
     ]
    }
   ],
   "source": [
    "print(food[0])"
   ]
  },
  {
   "cell_type": "code",
   "execution_count": 10,
   "id": "360c0757-b860-4fb4-a84f-b81e4bbb8f45",
   "metadata": {},
   "outputs": [
    {
     "name": "stdout",
     "output_type": "stream",
     "text": [
      "Tomatoes\n"
     ]
    }
   ],
   "source": [
    "print(food[4])"
   ]
  },
  {
   "cell_type": "code",
   "execution_count": 11,
   "id": "fc7a62e0-178e-4b72-9a17-53308d082130",
   "metadata": {},
   "outputs": [
    {
     "name": "stdout",
     "output_type": "stream",
     "text": [
      "['Ham', 'Cheese', 'Bread']\n"
     ]
    }
   ],
   "source": [
    "sliced_food = food[0:3]\n",
    "print(sliced_food)"
   ]
  },
  {
   "cell_type": "markdown",
   "id": "f1c93fa1-6160-411b-907c-b6b43f2bb48c",
   "metadata": {},
   "source": [
    "# Import Libraries"
   ]
  },
  {
   "cell_type": "markdown",
   "id": "6510ba5d-962a-4e4a-9795-50667f01b019",
   "metadata": {},
   "source": [
    "***"
   ]
  },
  {
   "cell_type": "code",
   "execution_count": 15,
   "id": "74e6e4f0-71c8-41c4-a83f-2c17d8fb2dde",
   "metadata": {},
   "outputs": [],
   "source": [
    "import pandas as pd\n",
    "import numpy as py\n",
    "import seaborn as sb"
   ]
  },
  {
   "cell_type": "code",
   "execution_count": 16,
   "id": "f474cefc-20c1-434d-a10c-db35cfd7430d",
   "metadata": {},
   "outputs": [
    {
     "name": "stdout",
     "output_type": "stream",
     "text": [
      "Pandas version2.1.3\n",
      "Numpy version2.1.3\n",
      "Seaborn version2.1.3\n"
     ]
    }
   ],
   "source": [
    "print(\"Pandas version\" + pd.__version__)\n",
    "print(\"Numpy version\" + pd.__version__)\n",
    "print(\"Seaborn version\" + pd.__version__)"
   ]
  },
  {
   "cell_type": "markdown",
   "id": "58337322-871b-4bbb-a3f2-5dc5737af2be",
   "metadata": {},
   "source": [
    "# Loading Data"
   ]
  },
  {
   "cell_type": "markdown",
   "id": "6aff0a07-18ec-4784-a732-4371712d2366",
   "metadata": {},
   "source": [
    "***"
   ]
  },
  {
   "cell_type": "code",
   "execution_count": 17,
   "id": "a02ccf2d-8afb-4c7e-b2c1-0c65effe5d90",
   "metadata": {},
   "outputs": [],
   "source": [
    "df = pd.read_csv(\"pokemon.csv\")"
   ]
  },
  {
   "cell_type": "markdown",
   "id": "f55f7bd2-fa57-48c9-adc8-21b1bde4fb8c",
   "metadata": {},
   "source": [
    "# Displaying Full Data Frames"
   ]
  },
  {
   "cell_type": "markdown",
   "id": "d8ab757d-0a61-40ab-a277-f69a17eceb10",
   "metadata": {},
   "source": [
    "***"
   ]
  },
  {
   "cell_type": "code",
   "execution_count": 18,
   "id": "5d5e04a7-4035-4801-9724-826a6b7f644d",
   "metadata": {},
   "outputs": [],
   "source": [
    "# pd.set_option(\"display.max_rows\", 20)"
   ]
  },
  {
   "cell_type": "code",
   "execution_count": 19,
   "id": "7990ea05-deba-4366-83ad-aac47d7327e4",
   "metadata": {},
   "outputs": [
    {
     "data": {
      "text/html": [
       "<div>\n",
       "<style scoped>\n",
       "    .dataframe tbody tr th:only-of-type {\n",
       "        vertical-align: middle;\n",
       "    }\n",
       "\n",
       "    .dataframe tbody tr th {\n",
       "        vertical-align: top;\n",
       "    }\n",
       "\n",
       "    .dataframe thead th {\n",
       "        text-align: right;\n",
       "    }\n",
       "</style>\n",
       "<table border=\"1\" class=\"dataframe\">\n",
       "  <thead>\n",
       "    <tr style=\"text-align: right;\">\n",
       "      <th></th>\n",
       "      <th>Per</th>\n",
       "      <th>Nat</th>\n",
       "      <th>Pokemon</th>\n",
       "      <th>HP</th>\n",
       "      <th>Atk</th>\n",
       "      <th>Def</th>\n",
       "      <th>SpA</th>\n",
       "      <th>SpD</th>\n",
       "      <th>Spe</th>\n",
       "      <th>Total</th>\n",
       "      <th>...</th>\n",
       "      <th>Catch</th>\n",
       "      <th>EXP</th>\n",
       "      <th>Evolve</th>\n",
       "      <th>Per.1</th>\n",
       "      <th>Nat.1</th>\n",
       "      <th>Joh</th>\n",
       "      <th>Hoe</th>\n",
       "      <th>Sin</th>\n",
       "      <th>Un</th>\n",
       "      <th>Pokemon.1</th>\n",
       "    </tr>\n",
       "  </thead>\n",
       "  <tbody>\n",
       "    <tr>\n",
       "      <th>0</th>\n",
       "      <td>1.0</td>\n",
       "      <td>1.0</td>\n",
       "      <td>Bulbasaur</td>\n",
       "      <td>45</td>\n",
       "      <td>49</td>\n",
       "      <td>49</td>\n",
       "      <td>65</td>\n",
       "      <td>65</td>\n",
       "      <td>45</td>\n",
       "      <td>318</td>\n",
       "      <td>...</td>\n",
       "      <td>45</td>\n",
       "      <td>1059860</td>\n",
       "      <td>NaN</td>\n",
       "      <td>1.0</td>\n",
       "      <td>1.0</td>\n",
       "      <td>226.0</td>\n",
       "      <td>NaN</td>\n",
       "      <td>NaN</td>\n",
       "      <td>NaN</td>\n",
       "      <td>Bulbasaur</td>\n",
       "    </tr>\n",
       "    <tr>\n",
       "      <th>1</th>\n",
       "      <td>2.0</td>\n",
       "      <td>2.0</td>\n",
       "      <td>Ivysaur</td>\n",
       "      <td>60</td>\n",
       "      <td>62</td>\n",
       "      <td>63</td>\n",
       "      <td>80</td>\n",
       "      <td>80</td>\n",
       "      <td>60</td>\n",
       "      <td>405</td>\n",
       "      <td>...</td>\n",
       "      <td>45</td>\n",
       "      <td>1059860</td>\n",
       "      <td>Lv. 16</td>\n",
       "      <td>2.0</td>\n",
       "      <td>2.0</td>\n",
       "      <td>227.0</td>\n",
       "      <td>NaN</td>\n",
       "      <td>NaN</td>\n",
       "      <td>NaN</td>\n",
       "      <td>Ivysaur</td>\n",
       "    </tr>\n",
       "    <tr>\n",
       "      <th>2</th>\n",
       "      <td>3.0</td>\n",
       "      <td>3.0</td>\n",
       "      <td>Venusaur</td>\n",
       "      <td>80</td>\n",
       "      <td>82</td>\n",
       "      <td>83</td>\n",
       "      <td>100</td>\n",
       "      <td>100</td>\n",
       "      <td>80</td>\n",
       "      <td>525</td>\n",
       "      <td>...</td>\n",
       "      <td>45</td>\n",
       "      <td>1059860</td>\n",
       "      <td>Lv. 32</td>\n",
       "      <td>3.0</td>\n",
       "      <td>3.0</td>\n",
       "      <td>228.0</td>\n",
       "      <td>NaN</td>\n",
       "      <td>NaN</td>\n",
       "      <td>NaN</td>\n",
       "      <td>Venusaur</td>\n",
       "    </tr>\n",
       "    <tr>\n",
       "      <th>3</th>\n",
       "      <td>4.0</td>\n",
       "      <td>4.0</td>\n",
       "      <td>Charmander</td>\n",
       "      <td>39</td>\n",
       "      <td>52</td>\n",
       "      <td>43</td>\n",
       "      <td>60</td>\n",
       "      <td>50</td>\n",
       "      <td>65</td>\n",
       "      <td>309</td>\n",
       "      <td>...</td>\n",
       "      <td>45</td>\n",
       "      <td>1059860</td>\n",
       "      <td>NaN</td>\n",
       "      <td>4.0</td>\n",
       "      <td>4.0</td>\n",
       "      <td>229.0</td>\n",
       "      <td>NaN</td>\n",
       "      <td>NaN</td>\n",
       "      <td>NaN</td>\n",
       "      <td>Charmander</td>\n",
       "    </tr>\n",
       "    <tr>\n",
       "      <th>4</th>\n",
       "      <td>5.0</td>\n",
       "      <td>5.0</td>\n",
       "      <td>Charmeleon</td>\n",
       "      <td>58</td>\n",
       "      <td>64</td>\n",
       "      <td>58</td>\n",
       "      <td>80</td>\n",
       "      <td>65</td>\n",
       "      <td>80</td>\n",
       "      <td>405</td>\n",
       "      <td>...</td>\n",
       "      <td>45</td>\n",
       "      <td>1059860</td>\n",
       "      <td>Lv. 16</td>\n",
       "      <td>5.0</td>\n",
       "      <td>5.0</td>\n",
       "      <td>230.0</td>\n",
       "      <td>NaN</td>\n",
       "      <td>NaN</td>\n",
       "      <td>NaN</td>\n",
       "      <td>Charmeleon</td>\n",
       "    </tr>\n",
       "    <tr>\n",
       "      <th>...</th>\n",
       "      <td>...</td>\n",
       "      <td>...</td>\n",
       "      <td>...</td>\n",
       "      <td>...</td>\n",
       "      <td>...</td>\n",
       "      <td>...</td>\n",
       "      <td>...</td>\n",
       "      <td>...</td>\n",
       "      <td>...</td>\n",
       "      <td>...</td>\n",
       "      <td>...</td>\n",
       "      <td>...</td>\n",
       "      <td>...</td>\n",
       "      <td>...</td>\n",
       "      <td>...</td>\n",
       "      <td>...</td>\n",
       "      <td>...</td>\n",
       "      <td>...</td>\n",
       "      <td>...</td>\n",
       "      <td>...</td>\n",
       "      <td>...</td>\n",
       "    </tr>\n",
       "    <tr>\n",
       "      <th>658</th>\n",
       "      <td>646.0</td>\n",
       "      <td>646.0</td>\n",
       "      <td>Kyurem</td>\n",
       "      <td>125</td>\n",
       "      <td>130</td>\n",
       "      <td>90</td>\n",
       "      <td>130</td>\n",
       "      <td>90</td>\n",
       "      <td>95</td>\n",
       "      <td>660</td>\n",
       "      <td>...</td>\n",
       "      <td>3</td>\n",
       "      <td>1250000</td>\n",
       "      <td>N</td>\n",
       "      <td>646.0</td>\n",
       "      <td>646.0</td>\n",
       "      <td>NaN</td>\n",
       "      <td>NaN</td>\n",
       "      <td>NaN</td>\n",
       "      <td>152.0</td>\n",
       "      <td>Kyurem</td>\n",
       "    </tr>\n",
       "    <tr>\n",
       "      <th>659</th>\n",
       "      <td>647.0</td>\n",
       "      <td>647.0</td>\n",
       "      <td>Keldeo</td>\n",
       "      <td>91</td>\n",
       "      <td>72</td>\n",
       "      <td>90</td>\n",
       "      <td>129</td>\n",
       "      <td>90</td>\n",
       "      <td>108</td>\n",
       "      <td>580</td>\n",
       "      <td>...</td>\n",
       "      <td>3</td>\n",
       "      <td>1250000</td>\n",
       "      <td>N</td>\n",
       "      <td>647.0</td>\n",
       "      <td>647.0</td>\n",
       "      <td>NaN</td>\n",
       "      <td>NaN</td>\n",
       "      <td>NaN</td>\n",
       "      <td>153.0</td>\n",
       "      <td>Keldeo</td>\n",
       "    </tr>\n",
       "    <tr>\n",
       "      <th>660</th>\n",
       "      <td>648.0</td>\n",
       "      <td>648.0</td>\n",
       "      <td>Meloetta (A)</td>\n",
       "      <td>100</td>\n",
       "      <td>77</td>\n",
       "      <td>77</td>\n",
       "      <td>128</td>\n",
       "      <td>128</td>\n",
       "      <td>90</td>\n",
       "      <td>600</td>\n",
       "      <td>...</td>\n",
       "      <td>3</td>\n",
       "      <td>1250000</td>\n",
       "      <td>N</td>\n",
       "      <td>648.0</td>\n",
       "      <td>648.0</td>\n",
       "      <td>NaN</td>\n",
       "      <td>NaN</td>\n",
       "      <td>NaN</td>\n",
       "      <td>154.0</td>\n",
       "      <td>Meloetta (A)</td>\n",
       "    </tr>\n",
       "    <tr>\n",
       "      <th>661</th>\n",
       "      <td>648.1</td>\n",
       "      <td>648.1</td>\n",
       "      <td>Meloetta (P)</td>\n",
       "      <td>100</td>\n",
       "      <td>128</td>\n",
       "      <td>90</td>\n",
       "      <td>77</td>\n",
       "      <td>77</td>\n",
       "      <td>128</td>\n",
       "      <td>600</td>\n",
       "      <td>...</td>\n",
       "      <td>3</td>\n",
       "      <td>1250000</td>\n",
       "      <td>N</td>\n",
       "      <td>648.1</td>\n",
       "      <td>648.1</td>\n",
       "      <td>NaN</td>\n",
       "      <td>NaN</td>\n",
       "      <td>NaN</td>\n",
       "      <td>154.1</td>\n",
       "      <td>Meloetta (P)</td>\n",
       "    </tr>\n",
       "    <tr>\n",
       "      <th>662</th>\n",
       "      <td>649.0</td>\n",
       "      <td>649.0</td>\n",
       "      <td>Genesect</td>\n",
       "      <td>71</td>\n",
       "      <td>120</td>\n",
       "      <td>95</td>\n",
       "      <td>120</td>\n",
       "      <td>95</td>\n",
       "      <td>99</td>\n",
       "      <td>600</td>\n",
       "      <td>...</td>\n",
       "      <td>3</td>\n",
       "      <td>1250000</td>\n",
       "      <td>N</td>\n",
       "      <td>649.0</td>\n",
       "      <td>649.0</td>\n",
       "      <td>NaN</td>\n",
       "      <td>NaN</td>\n",
       "      <td>NaN</td>\n",
       "      <td>155.0</td>\n",
       "      <td>Genesect</td>\n",
       "    </tr>\n",
       "  </tbody>\n",
       "</table>\n",
       "<p>663 rows × 35 columns</p>\n",
       "</div>"
      ],
      "text/plain": [
       "       Per    Nat       Pokemon   HP  Atk  Def  SpA  SpD  Spe  Total  ...  \\\n",
       "0      1.0    1.0     Bulbasaur   45   49   49   65   65   45    318  ...   \n",
       "1      2.0    2.0       Ivysaur   60   62   63   80   80   60    405  ...   \n",
       "2      3.0    3.0      Venusaur   80   82   83  100  100   80    525  ...   \n",
       "3      4.0    4.0    Charmander   39   52   43   60   50   65    309  ...   \n",
       "4      5.0    5.0    Charmeleon   58   64   58   80   65   80    405  ...   \n",
       "..     ...    ...           ...  ...  ...  ...  ...  ...  ...    ...  ...   \n",
       "658  646.0  646.0        Kyurem  125  130   90  130   90   95    660  ...   \n",
       "659  647.0  647.0        Keldeo   91   72   90  129   90  108    580  ...   \n",
       "660  648.0  648.0  Meloetta (A)  100   77   77  128  128   90    600  ...   \n",
       "661  648.1  648.1  Meloetta (P)  100  128   90   77   77  128    600  ...   \n",
       "662  649.0  649.0      Genesect   71  120   95  120   95   99    600  ...   \n",
       "\n",
       "    Catch      EXP  Evolve  Per.1  Nat.1    Joh Hoe  Sin     Un     Pokemon.1  \n",
       "0      45  1059860     NaN    1.0    1.0  226.0 NaN  NaN    NaN     Bulbasaur  \n",
       "1      45  1059860  Lv. 16    2.0    2.0  227.0 NaN  NaN    NaN       Ivysaur  \n",
       "2      45  1059860  Lv. 32    3.0    3.0  228.0 NaN  NaN    NaN      Venusaur  \n",
       "3      45  1059860     NaN    4.0    4.0  229.0 NaN  NaN    NaN    Charmander  \n",
       "4      45  1059860  Lv. 16    5.0    5.0  230.0 NaN  NaN    NaN    Charmeleon  \n",
       "..    ...      ...     ...    ...    ...    ...  ..  ...    ...           ...  \n",
       "658     3  1250000       N  646.0  646.0    NaN NaN  NaN  152.0        Kyurem  \n",
       "659     3  1250000       N  647.0  647.0    NaN NaN  NaN  153.0        Keldeo  \n",
       "660     3  1250000       N  648.0  648.0    NaN NaN  NaN  154.0  Meloetta (A)  \n",
       "661     3  1250000       N  648.1  648.1    NaN NaN  NaN  154.1  Meloetta (P)  \n",
       "662     3  1250000       N  649.0  649.0    NaN NaN  NaN  155.0      Genesect  \n",
       "\n",
       "[663 rows x 35 columns]"
      ]
     },
     "execution_count": 19,
     "metadata": {},
     "output_type": "execute_result"
    }
   ],
   "source": [
    "df.head(700)"
   ]
  },
  {
   "cell_type": "markdown",
   "id": "d64bc4e3-4bee-4489-a45a-a84a70e1d2b9",
   "metadata": {},
   "source": [
    "# Accessing Columns"
   ]
  },
  {
   "cell_type": "markdown",
   "id": "9ddea58b-a01b-4457-91f3-9b5e8f909fb8",
   "metadata": {},
   "source": [
    "***"
   ]
  },
  {
   "cell_type": "code",
   "execution_count": 20,
   "id": "e7edb04b-9643-4d7e-9f9a-77250033c152",
   "metadata": {},
   "outputs": [
    {
     "data": {
      "text/plain": [
       "0         Bulbasaur\n",
       "1           Ivysaur\n",
       "2          Venusaur\n",
       "3        Charmander\n",
       "4        Charmeleon\n",
       "           ...     \n",
       "658          Kyurem\n",
       "659          Keldeo\n",
       "660    Meloetta (A)\n",
       "661    Meloetta (P)\n",
       "662        Genesect\n",
       "Name: Pokemon, Length: 663, dtype: object"
      ]
     },
     "execution_count": 20,
     "metadata": {},
     "output_type": "execute_result"
    }
   ],
   "source": [
    "df.Pokemon"
   ]
  },
  {
   "cell_type": "code",
   "execution_count": 21,
   "id": "fc00daae-19d3-421d-bf95-cba14049df5d",
   "metadata": {},
   "outputs": [
    {
     "data": {
      "text/plain": [
       "'Amoonguss'"
      ]
     },
     "execution_count": 21,
     "metadata": {},
     "output_type": "execute_result"
    }
   ],
   "source": [
    "df.Pokemon[603]"
   ]
  },
  {
   "cell_type": "code",
   "execution_count": 22,
   "id": "8b93229b-5ace-4150-ad01-f7b3cec8c60c",
   "metadata": {},
   "outputs": [
    {
     "data": {
      "text/plain": [
       "0     Bulbasaur\n",
       "1       Ivysaur\n",
       "2      Venusaur\n",
       "3    Charmander\n",
       "4    Charmeleon\n",
       "5     Charizard\n",
       "6      Squirtle\n",
       "7     Wartortle\n",
       "8     Blastoise\n",
       "9      Caterpie\n",
       "Name: Pokemon, dtype: object"
      ]
     },
     "execution_count": 22,
     "metadata": {},
     "output_type": "execute_result"
    }
   ],
   "source": [
    "df.Pokemon[0:10]"
   ]
  },
  {
   "cell_type": "markdown",
   "id": "74cb9c55-ee2e-4e00-8499-475cd5901bda",
   "metadata": {},
   "source": [
    "# Accessing Multiple Columns"
   ]
  },
  {
   "cell_type": "markdown",
   "id": "54571b73-4793-4f83-a2de-2f8109d8a78d",
   "metadata": {},
   "source": [
    "***"
   ]
  },
  {
   "cell_type": "markdown",
   "id": "9c19355f-8a21-4d9c-9d1e-522259df3dcf",
   "metadata": {},
   "source": [
    "You can access multiple columns, using a variable"
   ]
  },
  {
   "cell_type": "code",
   "execution_count": 26,
   "id": "54ca58a8-31ea-4c49-91eb-830be4c7637a",
   "metadata": {},
   "outputs": [],
   "source": [
    "pokemon_Atk_HP = df[['Pokemon','HP', 'Atk']]"
   ]
  },
  {
   "cell_type": "code",
   "execution_count": 27,
   "id": "973214ac-eadc-4a85-927c-3a98ea02be7b",
   "metadata": {},
   "outputs": [
    {
     "data": {
      "text/html": [
       "<div>\n",
       "<style scoped>\n",
       "    .dataframe tbody tr th:only-of-type {\n",
       "        vertical-align: middle;\n",
       "    }\n",
       "\n",
       "    .dataframe tbody tr th {\n",
       "        vertical-align: top;\n",
       "    }\n",
       "\n",
       "    .dataframe thead th {\n",
       "        text-align: right;\n",
       "    }\n",
       "</style>\n",
       "<table border=\"1\" class=\"dataframe\">\n",
       "  <thead>\n",
       "    <tr style=\"text-align: right;\">\n",
       "      <th></th>\n",
       "      <th>Pokemon</th>\n",
       "      <th>HP</th>\n",
       "      <th>Atk</th>\n",
       "    </tr>\n",
       "  </thead>\n",
       "  <tbody>\n",
       "    <tr>\n",
       "      <th>0</th>\n",
       "      <td>Bulbasaur</td>\n",
       "      <td>45</td>\n",
       "      <td>49</td>\n",
       "    </tr>\n",
       "    <tr>\n",
       "      <th>1</th>\n",
       "      <td>Ivysaur</td>\n",
       "      <td>60</td>\n",
       "      <td>62</td>\n",
       "    </tr>\n",
       "    <tr>\n",
       "      <th>2</th>\n",
       "      <td>Venusaur</td>\n",
       "      <td>80</td>\n",
       "      <td>82</td>\n",
       "    </tr>\n",
       "    <tr>\n",
       "      <th>3</th>\n",
       "      <td>Charmander</td>\n",
       "      <td>39</td>\n",
       "      <td>52</td>\n",
       "    </tr>\n",
       "    <tr>\n",
       "      <th>4</th>\n",
       "      <td>Charmeleon</td>\n",
       "      <td>58</td>\n",
       "      <td>64</td>\n",
       "    </tr>\n",
       "    <tr>\n",
       "      <th>5</th>\n",
       "      <td>Charizard</td>\n",
       "      <td>78</td>\n",
       "      <td>84</td>\n",
       "    </tr>\n",
       "    <tr>\n",
       "      <th>6</th>\n",
       "      <td>Squirtle</td>\n",
       "      <td>44</td>\n",
       "      <td>48</td>\n",
       "    </tr>\n",
       "    <tr>\n",
       "      <th>7</th>\n",
       "      <td>Wartortle</td>\n",
       "      <td>59</td>\n",
       "      <td>63</td>\n",
       "    </tr>\n",
       "    <tr>\n",
       "      <th>8</th>\n",
       "      <td>Blastoise</td>\n",
       "      <td>79</td>\n",
       "      <td>83</td>\n",
       "    </tr>\n",
       "    <tr>\n",
       "      <th>9</th>\n",
       "      <td>Caterpie</td>\n",
       "      <td>45</td>\n",
       "      <td>30</td>\n",
       "    </tr>\n",
       "  </tbody>\n",
       "</table>\n",
       "</div>"
      ],
      "text/plain": [
       "      Pokemon  HP  Atk\n",
       "0   Bulbasaur  45   49\n",
       "1     Ivysaur  60   62\n",
       "2    Venusaur  80   82\n",
       "3  Charmander  39   52\n",
       "4  Charmeleon  58   64\n",
       "5   Charizard  78   84\n",
       "6    Squirtle  44   48\n",
       "7   Wartortle  59   63\n",
       "8   Blastoise  79   83\n",
       "9    Caterpie  45   30"
      ]
     },
     "execution_count": 27,
     "metadata": {},
     "output_type": "execute_result"
    }
   ],
   "source": [
    "pokemon_Atk_HP.head(10)"
   ]
  },
  {
   "cell_type": "markdown",
   "id": "48c9380c-3166-415c-b8ba-dda206d069f8",
   "metadata": {},
   "source": [
    "# Accessin Rows"
   ]
  },
  {
   "cell_type": "markdown",
   "id": "c65cf5d9-48fb-4c7e-acff-7082e283fc8b",
   "metadata": {},
   "source": [
    "***"
   ]
  },
  {
   "cell_type": "markdown",
   "id": "bd188123-73b2-4dec-8a66-3cd4a4466ca4",
   "metadata": {},
   "source": [
    "You can acces rows by using iloc[] which allows you to specify and index location for a row"
   ]
  },
  {
   "cell_type": "code",
   "execution_count": 28,
   "id": "2dee97ee-152b-452c-91fc-7d144672ba70",
   "metadata": {},
   "outputs": [],
   "source": [
    "specific_row = df.iloc[0]"
   ]
  },
  {
   "cell_type": "code",
   "execution_count": 29,
   "id": "4b28b00b-2e82-4ddc-b4f9-ea3e5f972e12",
   "metadata": {},
   "outputs": [
    {
     "name": "stdout",
     "output_type": "stream",
     "text": [
      "Per                       1.0\n",
      "Nat                       1.0\n",
      "Pokemon             Bulbasaur\n",
      "HP                         45\n",
      "Atk                        49\n",
      "Def                        49\n",
      "SpA                        65\n",
      "SpD                        65\n",
      "Spe                        45\n",
      "Total                     318\n",
      "Type I                  Grass\n",
      "Type II                Poison\n",
      "Tier                       NU\n",
      "Ability I            Overgrow\n",
      "Ability II                NaN\n",
      "Hidden Ability    Chlorophyll\n",
      "Mass                   6.9 kG\n",
      "LK/GK                      20\n",
      "EV Worth                1 SpA\n",
      "EXPV                       64\n",
      "Color                   Green\n",
      "Hatch                    5120\n",
      "Gender              M (87.5%)\n",
      "Egg Group I           Monster\n",
      "Egg Group II            Grass\n",
      "Catch                      45\n",
      "EXP                   1059860\n",
      "Evolve                    NaN\n",
      "Per.1                     1.0\n",
      "Nat.1                     1.0\n",
      "Joh                     226.0\n",
      "Hoe                       NaN\n",
      "Sin                       NaN\n",
      "Un                        NaN\n",
      "Pokemon.1           Bulbasaur\n",
      "Name: 0, dtype: object\n"
     ]
    }
   ],
   "source": [
    "print(specific_row)"
   ]
  },
  {
   "cell_type": "markdown",
   "id": "8f9d1db6-eed5-40b9-bbf9-631324f89db2",
   "metadata": {},
   "source": [
    "# Slicing Rows and Columns"
   ]
  },
  {
   "cell_type": "markdown",
   "id": "8169d725-c631-4ad6-bfea-4559dda57764",
   "metadata": {},
   "source": [
    "***"
   ]
  },
  {
   "cell_type": "markdown",
   "id": "c53617fa-9a01-4352-a260-9654047265e7",
   "metadata": {},
   "source": [
    "Note that when slicing if I return 0:10 I am going to get indexes 0-9"
   ]
  },
  {
   "cell_type": "code",
   "execution_count": 30,
   "id": "299774cd-382c-45bf-94f0-cc02a072a219",
   "metadata": {},
   "outputs": [],
   "source": [
    "rows_zero_to_ten = df.iloc[0:10]"
   ]
  },
  {
   "cell_type": "code",
   "execution_count": 33,
   "id": "54d1de78-2267-4c70-934b-d6bc05cbe525",
   "metadata": {},
   "outputs": [
    {
     "data": {
      "text/html": [
       "<div>\n",
       "<style scoped>\n",
       "    .dataframe tbody tr th:only-of-type {\n",
       "        vertical-align: middle;\n",
       "    }\n",
       "\n",
       "    .dataframe tbody tr th {\n",
       "        vertical-align: top;\n",
       "    }\n",
       "\n",
       "    .dataframe thead th {\n",
       "        text-align: right;\n",
       "    }\n",
       "</style>\n",
       "<table border=\"1\" class=\"dataframe\">\n",
       "  <thead>\n",
       "    <tr style=\"text-align: right;\">\n",
       "      <th></th>\n",
       "      <th>Per</th>\n",
       "      <th>Nat</th>\n",
       "      <th>Pokemon</th>\n",
       "      <th>HP</th>\n",
       "      <th>Atk</th>\n",
       "      <th>Def</th>\n",
       "      <th>SpA</th>\n",
       "      <th>SpD</th>\n",
       "      <th>Spe</th>\n",
       "      <th>Total</th>\n",
       "      <th>...</th>\n",
       "      <th>Catch</th>\n",
       "      <th>EXP</th>\n",
       "      <th>Evolve</th>\n",
       "      <th>Per.1</th>\n",
       "      <th>Nat.1</th>\n",
       "      <th>Joh</th>\n",
       "      <th>Hoe</th>\n",
       "      <th>Sin</th>\n",
       "      <th>Un</th>\n",
       "      <th>Pokemon.1</th>\n",
       "    </tr>\n",
       "  </thead>\n",
       "  <tbody>\n",
       "    <tr>\n",
       "      <th>0</th>\n",
       "      <td>1.0</td>\n",
       "      <td>1.0</td>\n",
       "      <td>Bulbasaur</td>\n",
       "      <td>45</td>\n",
       "      <td>49</td>\n",
       "      <td>49</td>\n",
       "      <td>65</td>\n",
       "      <td>65</td>\n",
       "      <td>45</td>\n",
       "      <td>318</td>\n",
       "      <td>...</td>\n",
       "      <td>45</td>\n",
       "      <td>1059860</td>\n",
       "      <td>NaN</td>\n",
       "      <td>1.0</td>\n",
       "      <td>1.0</td>\n",
       "      <td>226.0</td>\n",
       "      <td>NaN</td>\n",
       "      <td>NaN</td>\n",
       "      <td>NaN</td>\n",
       "      <td>Bulbasaur</td>\n",
       "    </tr>\n",
       "    <tr>\n",
       "      <th>1</th>\n",
       "      <td>2.0</td>\n",
       "      <td>2.0</td>\n",
       "      <td>Ivysaur</td>\n",
       "      <td>60</td>\n",
       "      <td>62</td>\n",
       "      <td>63</td>\n",
       "      <td>80</td>\n",
       "      <td>80</td>\n",
       "      <td>60</td>\n",
       "      <td>405</td>\n",
       "      <td>...</td>\n",
       "      <td>45</td>\n",
       "      <td>1059860</td>\n",
       "      <td>Lv. 16</td>\n",
       "      <td>2.0</td>\n",
       "      <td>2.0</td>\n",
       "      <td>227.0</td>\n",
       "      <td>NaN</td>\n",
       "      <td>NaN</td>\n",
       "      <td>NaN</td>\n",
       "      <td>Ivysaur</td>\n",
       "    </tr>\n",
       "    <tr>\n",
       "      <th>2</th>\n",
       "      <td>3.0</td>\n",
       "      <td>3.0</td>\n",
       "      <td>Venusaur</td>\n",
       "      <td>80</td>\n",
       "      <td>82</td>\n",
       "      <td>83</td>\n",
       "      <td>100</td>\n",
       "      <td>100</td>\n",
       "      <td>80</td>\n",
       "      <td>525</td>\n",
       "      <td>...</td>\n",
       "      <td>45</td>\n",
       "      <td>1059860</td>\n",
       "      <td>Lv. 32</td>\n",
       "      <td>3.0</td>\n",
       "      <td>3.0</td>\n",
       "      <td>228.0</td>\n",
       "      <td>NaN</td>\n",
       "      <td>NaN</td>\n",
       "      <td>NaN</td>\n",
       "      <td>Venusaur</td>\n",
       "    </tr>\n",
       "    <tr>\n",
       "      <th>3</th>\n",
       "      <td>4.0</td>\n",
       "      <td>4.0</td>\n",
       "      <td>Charmander</td>\n",
       "      <td>39</td>\n",
       "      <td>52</td>\n",
       "      <td>43</td>\n",
       "      <td>60</td>\n",
       "      <td>50</td>\n",
       "      <td>65</td>\n",
       "      <td>309</td>\n",
       "      <td>...</td>\n",
       "      <td>45</td>\n",
       "      <td>1059860</td>\n",
       "      <td>NaN</td>\n",
       "      <td>4.0</td>\n",
       "      <td>4.0</td>\n",
       "      <td>229.0</td>\n",
       "      <td>NaN</td>\n",
       "      <td>NaN</td>\n",
       "      <td>NaN</td>\n",
       "      <td>Charmander</td>\n",
       "    </tr>\n",
       "    <tr>\n",
       "      <th>4</th>\n",
       "      <td>5.0</td>\n",
       "      <td>5.0</td>\n",
       "      <td>Charmeleon</td>\n",
       "      <td>58</td>\n",
       "      <td>64</td>\n",
       "      <td>58</td>\n",
       "      <td>80</td>\n",
       "      <td>65</td>\n",
       "      <td>80</td>\n",
       "      <td>405</td>\n",
       "      <td>...</td>\n",
       "      <td>45</td>\n",
       "      <td>1059860</td>\n",
       "      <td>Lv. 16</td>\n",
       "      <td>5.0</td>\n",
       "      <td>5.0</td>\n",
       "      <td>230.0</td>\n",
       "      <td>NaN</td>\n",
       "      <td>NaN</td>\n",
       "      <td>NaN</td>\n",
       "      <td>Charmeleon</td>\n",
       "    </tr>\n",
       "    <tr>\n",
       "      <th>5</th>\n",
       "      <td>6.0</td>\n",
       "      <td>6.0</td>\n",
       "      <td>Charizard</td>\n",
       "      <td>78</td>\n",
       "      <td>84</td>\n",
       "      <td>78</td>\n",
       "      <td>109</td>\n",
       "      <td>85</td>\n",
       "      <td>100</td>\n",
       "      <td>534</td>\n",
       "      <td>...</td>\n",
       "      <td>45</td>\n",
       "      <td>1059860</td>\n",
       "      <td>Lv. 36</td>\n",
       "      <td>6.0</td>\n",
       "      <td>6.0</td>\n",
       "      <td>231.0</td>\n",
       "      <td>NaN</td>\n",
       "      <td>NaN</td>\n",
       "      <td>NaN</td>\n",
       "      <td>Charizard</td>\n",
       "    </tr>\n",
       "    <tr>\n",
       "      <th>6</th>\n",
       "      <td>7.0</td>\n",
       "      <td>7.0</td>\n",
       "      <td>Squirtle</td>\n",
       "      <td>44</td>\n",
       "      <td>48</td>\n",
       "      <td>65</td>\n",
       "      <td>60</td>\n",
       "      <td>54</td>\n",
       "      <td>43</td>\n",
       "      <td>314</td>\n",
       "      <td>...</td>\n",
       "      <td>45</td>\n",
       "      <td>1059860</td>\n",
       "      <td>NaN</td>\n",
       "      <td>7.0</td>\n",
       "      <td>7.0</td>\n",
       "      <td>232.0</td>\n",
       "      <td>NaN</td>\n",
       "      <td>NaN</td>\n",
       "      <td>NaN</td>\n",
       "      <td>Squirtle</td>\n",
       "    </tr>\n",
       "    <tr>\n",
       "      <th>7</th>\n",
       "      <td>8.0</td>\n",
       "      <td>8.0</td>\n",
       "      <td>Wartortle</td>\n",
       "      <td>59</td>\n",
       "      <td>63</td>\n",
       "      <td>80</td>\n",
       "      <td>65</td>\n",
       "      <td>80</td>\n",
       "      <td>58</td>\n",
       "      <td>405</td>\n",
       "      <td>...</td>\n",
       "      <td>45</td>\n",
       "      <td>1059860</td>\n",
       "      <td>Lv. 16</td>\n",
       "      <td>8.0</td>\n",
       "      <td>8.0</td>\n",
       "      <td>233.0</td>\n",
       "      <td>NaN</td>\n",
       "      <td>NaN</td>\n",
       "      <td>NaN</td>\n",
       "      <td>Wartortle</td>\n",
       "    </tr>\n",
       "    <tr>\n",
       "      <th>8</th>\n",
       "      <td>9.0</td>\n",
       "      <td>9.0</td>\n",
       "      <td>Blastoise</td>\n",
       "      <td>79</td>\n",
       "      <td>83</td>\n",
       "      <td>100</td>\n",
       "      <td>85</td>\n",
       "      <td>105</td>\n",
       "      <td>78</td>\n",
       "      <td>530</td>\n",
       "      <td>...</td>\n",
       "      <td>45</td>\n",
       "      <td>1059860</td>\n",
       "      <td>Lv. 36</td>\n",
       "      <td>9.0</td>\n",
       "      <td>9.0</td>\n",
       "      <td>234.0</td>\n",
       "      <td>NaN</td>\n",
       "      <td>NaN</td>\n",
       "      <td>NaN</td>\n",
       "      <td>Blastoise</td>\n",
       "    </tr>\n",
       "    <tr>\n",
       "      <th>9</th>\n",
       "      <td>10.0</td>\n",
       "      <td>10.0</td>\n",
       "      <td>Caterpie</td>\n",
       "      <td>45</td>\n",
       "      <td>30</td>\n",
       "      <td>35</td>\n",
       "      <td>20</td>\n",
       "      <td>20</td>\n",
       "      <td>45</td>\n",
       "      <td>195</td>\n",
       "      <td>...</td>\n",
       "      <td>255</td>\n",
       "      <td>1000000</td>\n",
       "      <td>NaN</td>\n",
       "      <td>10.0</td>\n",
       "      <td>10.0</td>\n",
       "      <td>24.0</td>\n",
       "      <td>NaN</td>\n",
       "      <td>NaN</td>\n",
       "      <td>NaN</td>\n",
       "      <td>Caterpie</td>\n",
       "    </tr>\n",
       "  </tbody>\n",
       "</table>\n",
       "<p>10 rows × 35 columns</p>\n",
       "</div>"
      ],
      "text/plain": [
       "    Per   Nat     Pokemon  HP  Atk  Def  SpA  SpD  Spe  Total  ... Catch  \\\n",
       "0   1.0   1.0   Bulbasaur  45   49   49   65   65   45    318  ...    45   \n",
       "1   2.0   2.0     Ivysaur  60   62   63   80   80   60    405  ...    45   \n",
       "2   3.0   3.0    Venusaur  80   82   83  100  100   80    525  ...    45   \n",
       "3   4.0   4.0  Charmander  39   52   43   60   50   65    309  ...    45   \n",
       "4   5.0   5.0  Charmeleon  58   64   58   80   65   80    405  ...    45   \n",
       "5   6.0   6.0   Charizard  78   84   78  109   85  100    534  ...    45   \n",
       "6   7.0   7.0    Squirtle  44   48   65   60   54   43    314  ...    45   \n",
       "7   8.0   8.0   Wartortle  59   63   80   65   80   58    405  ...    45   \n",
       "8   9.0   9.0   Blastoise  79   83  100   85  105   78    530  ...    45   \n",
       "9  10.0  10.0    Caterpie  45   30   35   20   20   45    195  ...   255   \n",
       "\n",
       "       EXP  Evolve Per.1 Nat.1    Joh Hoe  Sin  Un   Pokemon.1  \n",
       "0  1059860     NaN   1.0   1.0  226.0 NaN  NaN NaN   Bulbasaur  \n",
       "1  1059860  Lv. 16   2.0   2.0  227.0 NaN  NaN NaN     Ivysaur  \n",
       "2  1059860  Lv. 32   3.0   3.0  228.0 NaN  NaN NaN    Venusaur  \n",
       "3  1059860     NaN   4.0   4.0  229.0 NaN  NaN NaN  Charmander  \n",
       "4  1059860  Lv. 16   5.0   5.0  230.0 NaN  NaN NaN  Charmeleon  \n",
       "5  1059860  Lv. 36   6.0   6.0  231.0 NaN  NaN NaN   Charizard  \n",
       "6  1059860     NaN   7.0   7.0  232.0 NaN  NaN NaN    Squirtle  \n",
       "7  1059860  Lv. 16   8.0   8.0  233.0 NaN  NaN NaN   Wartortle  \n",
       "8  1059860  Lv. 36   9.0   9.0  234.0 NaN  NaN NaN   Blastoise  \n",
       "9  1000000     NaN  10.0  10.0   24.0 NaN  NaN NaN    Caterpie  \n",
       "\n",
       "[10 rows x 35 columns]"
      ]
     },
     "execution_count": 33,
     "metadata": {},
     "output_type": "execute_result"
    }
   ],
   "source": [
    "rows_zero_to_ten.head(10)"
   ]
  },
  {
   "cell_type": "markdown",
   "id": "6e90bfd0-f51a-46b6-a2f5-55bf99abf007",
   "metadata": {},
   "source": [
    "# Useful PANDAS Method"
   ]
  },
  {
   "cell_type": "markdown",
   "id": "f55a4500-7c48-489b-9d85-3b45b1a82f4f",
   "metadata": {},
   "source": [
    "***"
   ]
  },
  {
   "cell_type": "code",
   "execution_count": 34,
   "id": "17305f47-f1c0-4d0d-a8b0-e29785736cc3",
   "metadata": {},
   "outputs": [
    {
     "data": {
      "text/plain": [
       "464     Abomasnow\n",
       "62           Abra\n",
       "358         Absol\n",
       "629      Accelgor\n",
       "141    Aerodactyl\n",
       "          ...    \n",
       "262     Zigzagoon\n",
       "583       Zoroark\n",
       "582         Zorua\n",
       "40          Zubat\n",
       "646      Zweilous\n",
       "Name: Pokemon, Length: 663, dtype: object"
      ]
     },
     "execution_count": 34,
     "metadata": {},
     "output_type": "execute_result"
    }
   ],
   "source": [
    "df.Pokemon.sort_values() #sports values of pokemon column"
   ]
  },
  {
   "cell_type": "code",
   "execution_count": 35,
   "id": "475c9782-3570-4060-8986-a3d0288eae24",
   "metadata": {},
   "outputs": [
    {
     "data": {
      "text/plain": [
       "8     Blastoise\n",
       "0     Bulbasaur\n",
       "9      Caterpie\n",
       "5     Charizard\n",
       "3    Charmander\n",
       "4    Charmeleon\n",
       "1       Ivysaur\n",
       "6      Squirtle\n",
       "2      Venusaur\n",
       "7     Wartortle\n",
       "Name: Pokemon, dtype: object"
      ]
     },
     "execution_count": 35,
     "metadata": {},
     "output_type": "execute_result"
    }
   ],
   "source": [
    "df.Pokemon[0:10].sort_values() #sorts value of first 9 rows"
   ]
  },
  {
   "cell_type": "code",
   "execution_count": 36,
   "id": "d872096b-266f-4fdf-b19a-e40b5a23286e",
   "metadata": {},
   "outputs": [
    {
     "data": {
      "text/plain": [
       "68.34087481146305"
      ]
     },
     "execution_count": 36,
     "metadata": {},
     "output_type": "execute_result"
    }
   ],
   "source": [
    "df.HP.mean() #gets mean"
   ]
  },
  {
   "cell_type": "code",
   "execution_count": 37,
   "id": "c0adb82d-4e03-4293-be9b-d340603e75c9",
   "metadata": {},
   "outputs": [
    {
     "data": {
      "text/plain": [
       "count    663.000000\n",
       "mean      68.962293\n",
       "std       29.246841\n",
       "min       10.000000\n",
       "25%       45.000000\n",
       "50%       65.000000\n",
       "75%       90.000000\n",
       "max      180.000000\n",
       "Name: SpA, dtype: float64"
      ]
     },
     "execution_count": 37,
     "metadata": {},
     "output_type": "execute_result"
    }
   ],
   "source": [
    "df.SpA.describe()"
   ]
  },
  {
   "cell_type": "markdown",
   "id": "db435b6c-7761-48a8-b595-7aace283850c",
   "metadata": {},
   "source": [
    "# Filtering Data"
   ]
  },
  {
   "cell_type": "markdown",
   "id": "87b82184-0e51-4421-a293-dbe0db9a09f8",
   "metadata": {},
   "source": [
    "***"
   ]
  },
  {
   "cell_type": "markdown",
   "id": "df139305-7967-4067-afe4-de3a8e3d0b67",
   "metadata": {},
   "source": [
    "Filtering data is critical to working with data and making it readible for many different uses.\n",
    "Filtering uses operators to do this along with other common programming concepts."
   ]
  },
  {
   "cell_type": "code",
   "execution_count": 38,
   "id": "b3ca2756-4a0e-486d-82cd-07735faf35ad",
   "metadata": {},
   "outputs": [],
   "source": [
    "chu_pokemon = df[df['Pokemon'].str.contains(\"chu\")]"
   ]
  },
  {
   "cell_type": "code",
   "execution_count": 39,
   "id": "3c1fc586-e7a6-4831-9b26-40870ba7358b",
   "metadata": {},
   "outputs": [
    {
     "name": "stdout",
     "output_type": "stream",
     "text": [
      "       Per    Nat   Pokemon  HP  Atk  Def  SpA  SpD  Spe  Total  ... Catch  \\\n",
      "24    26.0   25.0   Pikachu  35   55   30   50   40   90    300  ...   190   \n",
      "25    27.0   26.0    Raichu  60   90   55   90   80  100    475  ...    75   \n",
      "171   25.0  172.0     Pichu  20   40   15   35   35   60    205  ...   190   \n",
      "237  143.0  238.0  Smoochum  45   30   15   85   65   65    305  ...    45   \n",
      "\n",
      "         EXP        Evolve  Per.1  Nat.1    Joh    Hoe    Sin  Un  Pokemon.1  \n",
      "24   1000000    Friendship   26.0   25.0   22.0  156.0  104.0 NaN    Pikachu  \n",
      "25   1000000  Thunderstone   27.0   26.0   23.0  157.0  105.0 NaN     Raichu  \n",
      "171  1000000           NaN   25.0  172.0   21.0  155.0  103.0 NaN      Pichu  \n",
      "237  1000000           NaN  143.0  238.0  152.0    NaN    NaN NaN   Smoochum  \n",
      "\n",
      "[4 rows x 35 columns]\n"
     ]
    }
   ],
   "source": [
    "print(chu_pokemon)"
   ]
  },
  {
   "cell_type": "code",
   "execution_count": null,
   "id": "973872e1-3c6d-458c-bacc-7d6240bd08e1",
   "metadata": {},
   "outputs": [],
   "source": []
  }
 ],
 "metadata": {
  "kernelspec": {
   "display_name": "Python 3 (ipykernel)",
   "language": "python",
   "name": "python3"
  },
  "language_info": {
   "codemirror_mode": {
    "name": "ipython",
    "version": 3
   },
   "file_extension": ".py",
   "mimetype": "text/x-python",
   "name": "python",
   "nbconvert_exporter": "python",
   "pygments_lexer": "ipython3",
   "version": "3.10.13"
  }
 },
 "nbformat": 4,
 "nbformat_minor": 5
}
